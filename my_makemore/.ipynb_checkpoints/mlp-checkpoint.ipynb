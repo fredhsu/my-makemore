{
 "cells": [
  {
   "cell_type": "code",
   "execution_count": 2,
   "id": "36edf648-fa3e-4442-a1f0-b0c33e7349ab",
   "metadata": {},
   "outputs": [],
   "source": [
    "import torch\n",
    "import torch.nn.functional as F\n",
    "import matplotlib.pyplot as plt\n",
    "%matplotlib inline\n"
   ]
  },
  {
   "cell_type": "code",
   "execution_count": 3,
   "id": "74644828-49a7-4b30-8bb2-e34216fb7821",
   "metadata": {},
   "outputs": [
    {
     "data": {
      "text/plain": [
       "['emma', 'olivia', 'ava', 'isabella', 'sophia', 'charlotte', 'mia', 'amelia']"
      ]
     },
     "execution_count": 3,
     "metadata": {},
     "output_type": "execute_result"
    }
   ],
   "source": [
    "words = open('../names.txt', 'r').read().splitlines()\n",
    "words[:8]"
   ]
  },
  {
   "cell_type": "code",
   "execution_count": 4,
   "id": "f271903d-e28b-41e7-97b2-5486066d0531",
   "metadata": {},
   "outputs": [
    {
     "data": {
      "text/plain": [
       "32033"
      ]
     },
     "execution_count": 4,
     "metadata": {},
     "output_type": "execute_result"
    }
   ],
   "source": [
    "len(words)"
   ]
  },
  {
   "cell_type": "code",
   "execution_count": 5,
   "id": "91c447ad-8849-4139-b5cf-531da86f7bc6",
   "metadata": {},
   "outputs": [
    {
     "name": "stdout",
     "output_type": "stream",
     "text": [
      "{1: 'a', 2: 'b', 3: 'c', 4: 'd', 5: 'e', 6: 'f', 7: 'g', 8: 'h', 9: 'i', 10: 'j', 11: 'k', 12: 'l', 13: 'm', 14: 'n', 15: 'o', 16: 'p', 17: 'q', 18: 'r', 19: 's', 20: 't', 21: 'u', 22: 'v', 23: 'w', 24: 'x', 25: 'y', 26: 'z', 0: '.'}\n"
     ]
    }
   ],
   "source": [
    "chars = sorted(list(set(''.join(words))))\n",
    "stoi = {s:i+1 for i,s in enumerate(chars)}\n",
    "stoi['.'] = 0\n",
    "itos = {i:s for s,i in stoi.items()}\n",
    "print(itos)"
   ]
  },
  {
   "cell_type": "code",
   "execution_count": 6,
   "id": "be6f6145-daee-4688-a1b1-f35ec2a2465d",
   "metadata": {},
   "outputs": [],
   "source": [
    "# build dataset\n",
    "\n",
    "block_size = 3 # content length: how many characters do we use to predict the next one?\n",
    "X, Y = [], []\n",
    "for w in words:\n",
    "    #print(w)\n",
    "    context = [0] * block_size\n",
    "    for ch in w + '.':\n",
    "        ix = stoi[ch]\n",
    "        X.append(context)\n",
    "        Y.append(ix)\n",
    "        #print(''.join(itos[i] for i in context), '---->', itos[ix])\n",
    "        context = context[1:] + [ix] # crop and append, chop first and add to end\n",
    "\n",
    "X = torch.tensor(X)\n",
    "Y = torch.tensor(Y)\n"
   ]
  },
  {
   "cell_type": "code",
   "execution_count": 7,
   "id": "2df48b54-7a9a-45cf-baff-e49896119268",
   "metadata": {},
   "outputs": [
    {
     "data": {
      "text/plain": [
       "(torch.Size([228146, 3]), torch.int64, torch.Size([228146]), torch.int64)"
      ]
     },
     "execution_count": 7,
     "metadata": {},
     "output_type": "execute_result"
    }
   ],
   "source": [
    "X.shape, X.dtype, Y.shape, Y.dtype"
   ]
  },
  {
   "cell_type": "code",
   "execution_count": 8,
   "id": "9a7f03fa-dcd5-46e3-9b9b-3ed264309e02",
   "metadata": {},
   "outputs": [
    {
     "data": {
      "text/plain": [
       "tensor([[ 0,  0,  0],\n",
       "        [ 0,  0,  5],\n",
       "        [ 0,  5, 13],\n",
       "        ...,\n",
       "        [26, 26, 25],\n",
       "        [26, 25, 26],\n",
       "        [25, 26, 24]])"
      ]
     },
     "execution_count": 8,
     "metadata": {},
     "output_type": "execute_result"
    }
   ],
   "source": [
    "X"
   ]
  },
  {
   "cell_type": "markdown",
   "id": "68ecc069-8238-40df-82c0-4e6052a4915c",
   "metadata": {},
   "source": [
    "Above shows the 32, three letter combinations seen for the five names"
   ]
  },
  {
   "cell_type": "code",
   "execution_count": 9,
   "id": "edef008c-31e2-40ff-aeee-2cdb8faf8f6e",
   "metadata": {},
   "outputs": [
    {
     "data": {
      "text/plain": [
       "tensor([ 5, 13, 13,  ..., 26, 24,  0])"
      ]
     },
     "execution_count": 9,
     "metadata": {},
     "output_type": "execute_result"
    }
   ],
   "source": [
    "Y"
   ]
  },
  {
   "cell_type": "markdown",
   "id": "630bd6bd-5598-43d4-93cf-47dcf5cdd868",
   "metadata": {},
   "source": [
    "There are similarly 32 letters that are the labels corresponding to the desired output "
   ]
  },
  {
   "cell_type": "code",
   "execution_count": 10,
   "id": "8880f124-7489-4494-8d2a-505aa6cdf146",
   "metadata": {},
   "outputs": [],
   "source": [
    "C = torch.randn((27,2)) # each character gets a 2D embedding"
   ]
  },
  {
   "cell_type": "code",
   "execution_count": 11,
   "id": "5e7e1838-9b68-460b-b20b-1e2a7e0b30fb",
   "metadata": {},
   "outputs": [
    {
     "data": {
      "text/plain": [
       "tensor([0.4214, 0.5313])"
      ]
     },
     "execution_count": 11,
     "metadata": {},
     "output_type": "execute_result"
    }
   ],
   "source": [
    "C[5]"
   ]
  },
  {
   "cell_type": "code",
   "execution_count": 12,
   "id": "b41e4ceb-3648-4cc4-83fc-dff7b6565b29",
   "metadata": {},
   "outputs": [
    {
     "data": {
      "text/plain": [
       "tensor([0.4214, 0.5313])"
      ]
     },
     "execution_count": 12,
     "metadata": {},
     "output_type": "execute_result"
    }
   ],
   "source": [
    "F.one_hot(torch.tensor(5), num_classes=27).float() @ C"
   ]
  },
  {
   "cell_type": "code",
   "execution_count": 13,
   "id": "2f490bb3-67b1-4e99-a380-baf3aa2325d3",
   "metadata": {},
   "outputs": [
    {
     "data": {
      "text/plain": [
       "tensor([[ 0.4214,  0.5313],\n",
       "        [ 1.2316, -0.1115],\n",
       "        [-1.8177,  0.0893]])"
      ]
     },
     "execution_count": 13,
     "metadata": {},
     "output_type": "execute_result"
    }
   ],
   "source": [
    "C[torch.tensor([5,6,7])] #  we can also index with a tensor"
   ]
  },
  {
   "cell_type": "code",
   "execution_count": 14,
   "id": "0fb2c161-2880-4240-99a8-b2da8509c954",
   "metadata": {},
   "outputs": [
    {
     "data": {
      "text/plain": [
       "torch.Size([228146, 3, 2])"
      ]
     },
     "execution_count": 14,
     "metadata": {},
     "output_type": "execute_result"
    }
   ],
   "source": [
    "C[X].shape # can embed the entire X matrix"
   ]
  },
  {
   "cell_type": "code",
   "execution_count": 15,
   "id": "07b266dc-ed53-42f4-9ce9-9cac473a58e0",
   "metadata": {},
   "outputs": [
    {
     "data": {
      "text/plain": [
       "tensor(1)"
      ]
     },
     "execution_count": 15,
     "metadata": {},
     "output_type": "execute_result"
    }
   ],
   "source": [
    "X[13,2]"
   ]
  },
  {
   "cell_type": "code",
   "execution_count": 16,
   "id": "8974f9c4-4638-4362-807c-5e25554fe3e0",
   "metadata": {},
   "outputs": [
    {
     "data": {
      "text/plain": [
       "tensor([0.8197, 0.0293])"
      ]
     },
     "execution_count": 16,
     "metadata": {},
     "output_type": "execute_result"
    }
   ],
   "source": [
    "C[X][13,2]"
   ]
  },
  {
   "cell_type": "code",
   "execution_count": 17,
   "id": "f9b9cc2e-12af-488f-af5a-0ba2e38ebdf0",
   "metadata": {},
   "outputs": [
    {
     "data": {
      "text/plain": [
       "tensor([0.8197, 0.0293])"
      ]
     },
     "execution_count": 17,
     "metadata": {},
     "output_type": "execute_result"
    }
   ],
   "source": [
    "C[1]"
   ]
  },
  {
   "cell_type": "code",
   "execution_count": 18,
   "id": "e9000a1d-596b-4617-aa95-f03b07640332",
   "metadata": {},
   "outputs": [
    {
     "data": {
      "text/plain": [
       "torch.Size([228146, 3, 2])"
      ]
     },
     "execution_count": 18,
     "metadata": {},
     "output_type": "execute_result"
    }
   ],
   "source": [
    "emb = C[X]\n",
    "emb.shape"
   ]
  },
  {
   "cell_type": "code",
   "execution_count": 19,
   "id": "c7ca1aab-8644-42f3-813e-9d0003391036",
   "metadata": {},
   "outputs": [],
   "source": [
    "W1 = torch.randn((6, 100)) # the 6 comes from having 3-D inputs whose embeddings are two dimensional, the 100 is number of hidden layer neurons \n",
    "b1 = torch.randn(100)"
   ]
  },
  {
   "cell_type": "code",
   "execution_count": 20,
   "id": "7d74cd78-6a4e-423c-8a79-0f828b9e4c0a",
   "metadata": {},
   "outputs": [
    {
     "ename": "RuntimeError",
     "evalue": "mat1 and mat2 shapes cannot be multiplied (684438x2 and 6x100)",
     "output_type": "error",
     "traceback": [
      "\u001b[0;31m---------------------------------------------------------------------------\u001b[0m",
      "\u001b[0;31mRuntimeError\u001b[0m                              Traceback (most recent call last)",
      "Cell \u001b[0;32mIn[20], line 1\u001b[0m\n\u001b[0;32m----> 1\u001b[0m \u001b[43memb\u001b[49m\u001b[43m \u001b[49m\u001b[38;5;241;43m@\u001b[39;49m\u001b[43m \u001b[49m\u001b[43mW1\u001b[49m \u001b[38;5;241m+\u001b[39m b1 \u001b[38;5;66;03m# this won't work because our input from the embeddings are 32x3x2 so we need to concat to make it 32x6\u001b[39;00m\n",
      "\u001b[0;31mRuntimeError\u001b[0m: mat1 and mat2 shapes cannot be multiplied (684438x2 and 6x100)"
     ]
    }
   ],
   "source": [
    "emb @ W1 + b1 # this won't work because our input from the embeddings are 32x3x2 so we need to concat to make it 32x6\n"
   ]
  },
  {
   "cell_type": "code",
   "execution_count": null,
   "id": "718218d0-a012-4507-a434-656ef1185d2d",
   "metadata": {},
   "outputs": [],
   "source": [
    "torch.cat([emb[:,0,:], emb[:,1,:], emb[:,2,:]],1)"
   ]
  },
  {
   "cell_type": "code",
   "execution_count": null,
   "id": "b0efbfd2-0132-4b4a-9709-08a5aac45501",
   "metadata": {},
   "outputs": [],
   "source": [
    "torch.cat(torch.unbind(emb,1), 1)"
   ]
  },
  {
   "cell_type": "code",
   "execution_count": null,
   "id": "5bfe3f99-eed9-47dd-bba2-d141f2e2dbef",
   "metadata": {},
   "outputs": [],
   "source": [
    "emb.view(32,6) == torch.cat(torch.unbind(emb,1), 1)"
   ]
  },
  {
   "cell_type": "code",
   "execution_count": null,
   "id": "53ed0006-01d1-459d-9387-4aae5d4fab82",
   "metadata": {},
   "outputs": [],
   "source": [
    "# much more efficient to use view\n",
    "# this is our hidden layer\n",
    "h = torch.tanh(emb.view(-1,6) @ W1 + b1) # using -1 pytorch will infer the value\n",
    "h"
   ]
  },
  {
   "cell_type": "code",
   "execution_count": null,
   "id": "15e63d93-6843-498b-bae8-5914fa533393",
   "metadata": {},
   "outputs": [],
   "source": [
    "W2 = torch.randn((100, 27))\n",
    "b2 = torch.randn(27)"
   ]
  },
  {
   "cell_type": "code",
   "execution_count": null,
   "id": "66570a0f-9b72-4911-9e52-067d48a603d1",
   "metadata": {},
   "outputs": [],
   "source": [
    "logits = h @ W2 + b2\n",
    "logits.shape"
   ]
  },
  {
   "cell_type": "code",
   "execution_count": null,
   "id": "36f01a7e-eec4-4daf-8357-7c62e9b42c7e",
   "metadata": {},
   "outputs": [],
   "source": [
    "counts = logits.exp()\n",
    "prob = counts / counts.sum(1, keepdims = True)"
   ]
  },
  {
   "cell_type": "code",
   "execution_count": null,
   "id": "ab3dabbb-264f-4dfb-9fef-d12c9be5356f",
   "metadata": {},
   "outputs": [],
   "source": [
    "prob.shape"
   ]
  },
  {
   "cell_type": "code",
   "execution_count": null,
   "id": "b0f9a954-e9de-4f3a-9094-833e22ea7be0",
   "metadata": {},
   "outputs": [],
   "source": [
    "Y"
   ]
  },
  {
   "cell_type": "code",
   "execution_count": null,
   "id": "91b69163-fb32-4c37-92d4-42dcdb512b27",
   "metadata": {},
   "outputs": [],
   "source": [
    "prob[torch.arange(32), Y] # looks up the probability of the next character being the correct character\n"
   ]
  },
  {
   "cell_type": "code",
   "execution_count": null,
   "id": "46f6841e-0c3a-4c69-81bd-3f005717a395",
   "metadata": {},
   "outputs": [],
   "source": [
    "loss = -prob[torch.arange(32), Y].log().mean() # calculate NLL for loss\n",
    "loss"
   ]
  },
  {
   "cell_type": "markdown",
   "id": "622e36e3-f566-4d98-9162-0ccc1411cc39",
   "metadata": {},
   "source": [
    "# Clean up"
   ]
  },
  {
   "cell_type": "code",
   "execution_count": 67,
   "id": "bbe2f5d7-86bc-49a2-9eba-451675af0de1",
   "metadata": {},
   "outputs": [],
   "source": [
    "g = torch.Generator().manual_seed(2147483647)\n",
    "C = torch.randn((27,2), generator = g) # each character gets a 2D embedding\n",
    "W1 = torch.randn((6, 100), generator = g) # the 6 comes from having 3-D inputs whose embeddings are two dimensional, the 100 is number of hidden layer neurons \n",
    "b1 = torch.randn(100, generator = g)\n",
    "W2 = torch.randn((100, 27), generator = g)\n",
    "b2 = torch.randn(27, generator = g)\n",
    "parameters = [C, W1, b1, W2, b2]"
   ]
  },
  {
   "cell_type": "code",
   "execution_count": 37,
   "id": "348f0548-9426-4fee-b712-b2f030f31782",
   "metadata": {},
   "outputs": [
    {
     "data": {
      "text/plain": [
       "3481"
      ]
     },
     "execution_count": 37,
     "metadata": {},
     "output_type": "execute_result"
    }
   ],
   "source": [
    "sum(p.nelement() for p in parameters) #  total num of params"
   ]
  },
  {
   "cell_type": "code",
   "execution_count": 23,
   "id": "54105cfe-0f16-46ac-a536-00285bcf51bf",
   "metadata": {},
   "outputs": [
    {
     "ename": "IndexError",
     "evalue": "shape mismatch: indexing tensors could not be broadcast together with shapes [32], [228146]",
     "output_type": "error",
     "traceback": [
      "\u001b[0;31m---------------------------------------------------------------------------\u001b[0m",
      "\u001b[0;31mIndexError\u001b[0m                                Traceback (most recent call last)",
      "Cell \u001b[0;32mIn[23], line 6\u001b[0m\n\u001b[1;32m      4\u001b[0m counts \u001b[38;5;241m=\u001b[39m logits\u001b[38;5;241m.\u001b[39mexp()\n\u001b[1;32m      5\u001b[0m prob \u001b[38;5;241m=\u001b[39m counts \u001b[38;5;241m/\u001b[39m counts\u001b[38;5;241m.\u001b[39msum(\u001b[38;5;241m1\u001b[39m, keepdims\u001b[38;5;241m=\u001b[39m\u001b[38;5;28;01mTrue\u001b[39;00m)\n\u001b[0;32m----> 6\u001b[0m loss \u001b[38;5;241m=\u001b[39m \u001b[38;5;241m-\u001b[39m\u001b[43mprob\u001b[49m\u001b[43m[\u001b[49m\u001b[43mtorch\u001b[49m\u001b[38;5;241;43m.\u001b[39;49m\u001b[43marange\u001b[49m\u001b[43m(\u001b[49m\u001b[38;5;241;43m32\u001b[39;49m\u001b[43m)\u001b[49m\u001b[43m,\u001b[49m\u001b[43m \u001b[49m\u001b[43mY\u001b[49m\u001b[43m]\u001b[49m\u001b[38;5;241m.\u001b[39mlog()\u001b[38;5;241m.\u001b[39mmean() \u001b[38;5;66;03m# calculate loss\u001b[39;00m\n\u001b[1;32m      7\u001b[0m loss\n",
      "\u001b[0;31mIndexError\u001b[0m: shape mismatch: indexing tensors could not be broadcast together with shapes [32], [228146]"
     ]
    }
   ],
   "source": [
    "emb = C[X]\n",
    "h = torch.tanh(emb.view(-1, 6) @ W1 + b1)\n",
    "logits = h @ W2 + b2\n",
    "counts = logits.exp()\n",
    "prob = counts / counts.sum(1, keepdims=True)\n",
    "loss = -prob[torch.arange(32), Y].log().mean() # calculate loss\n",
    "loss"
   ]
  },
  {
   "cell_type": "code",
   "execution_count": null,
   "id": "1fd03de2-fd44-433d-99a0-d0f500577190",
   "metadata": {},
   "outputs": [],
   "source": [
    "loss = F.cross_entropy(logits, Y) # this can replace multiple lines above and with more efficiency\n",
    "loss"
   ]
  },
  {
   "cell_type": "markdown",
   "id": "9acc07ca-1e7f-4c72-946d-f6b27e419338",
   "metadata": {},
   "source": [
    "In practice always use the built in function"
   ]
  },
  {
   "cell_type": "code",
   "execution_count": 68,
   "id": "0ae73cf8-5ddf-4333-8114-5722afb8deac",
   "metadata": {},
   "outputs": [],
   "source": [
    "for p in parameters:\n",
    "    p.requires_grad = True"
   ]
  },
  {
   "cell_type": "code",
   "execution_count": 64,
   "id": "5327d901-f066-4d2d-a501-865483339072",
   "metadata": {},
   "outputs": [],
   "source": [
    "# generate learning rates to try\n",
    "lre = torch.linspace(-3, 0,1000) # better to step through the exponents linearly vs the actual learning rate\n",
    "lrs = 10**lre"
   ]
  },
  {
   "cell_type": "code",
   "execution_count": 69,
   "id": "3fd0882c-ed2f-43f9-940b-5e37c2866ff7",
   "metadata": {},
   "outputs": [],
   "source": [
    "lri = []\n",
    "lossi = []\n",
    "\n",
    "for i in range(100000):\n",
    "    # minibatch construct\n",
    "    ix = torch.randint(0,X.shape[0],(32,))\n",
    "    # forward pass\n",
    "    emb = C[X[ix]] # 32,3,2 instead of 200k,3,2\n",
    "    h = torch.tanh(emb.view(-1, 6) @ W1 + b1)\n",
    "    logits = h @ W2 + b2\n",
    "    loss = F.cross_entropy(logits, Y[ix])\n",
    "    # print(loss.item())\n",
    "    # backward pass\n",
    "    for p in parameters:\n",
    "        p.grad = None\n",
    "    loss.backward()\n",
    "    \n",
    "    # update\n",
    "    lr = 0.1\n",
    "    for p in parameters:\n",
    "        p.data += -lr * p.grad\n",
    "    # track stats\n",
    "    #lri.append(lre[i])\n",
    "    #lossi.append(loss.item())\n",
    "        \n",
    "# print(loss.item())   # gives loss for minibatch"
   ]
  },
  {
   "cell_type": "code",
   "execution_count": 66,
   "id": "c834b04a-b4ca-40c9-882a-031dd101c358",
   "metadata": {},
   "outputs": [
    {
     "data": {
      "text/plain": [
       "[<matplotlib.lines.Line2D at 0x7f21ec2a0810>]"
      ]
     },
     "execution_count": 66,
     "metadata": {},
     "output_type": "execute_result"
    },
    {
     "data": {
      "image/png": "[encoded data removed]",
      "text/plain": [
       "<Figure size 640x480 with 1 Axes>"
      ]
     },
     "metadata": {},
     "output_type": "display_data"
    }
   ],
   "source": [
    "plt.plot(lri, lossi)"
   ]
  },
  {
   "cell_type": "code",
   "execution_count": 27,
   "id": "b64dfa52-5f40-43ab-a233-b63769556b05",
   "metadata": {},
   "outputs": [
    {
     "data": {
      "text/plain": [
       "tensor([214426, 109164,  56223, 226660,   7546, 178095, 195660, 228052,  97768,\n",
       "         32551, 215660, 126586,  27609, 219559,  75026, 138595, 131522,  44800,\n",
       "         48520, 173726,  90601, 173853,    244, 138614, 211034,  57793, 122978,\n",
       "        118972, 168446, 220077, 224838, 160074])"
      ]
     },
     "execution_count": 27,
     "metadata": {},
     "output_type": "execute_result"
    }
   ],
   "source": [
    "torch.randint(0,X.shape[0],(32,))"
   ]
  },
  {
   "cell_type": "code",
   "execution_count": 70,
   "id": "28ceb5fe-8770-4847-ad51-f25cfd6583fb",
   "metadata": {},
   "outputs": [
    {
     "name": "stdout",
     "output_type": "stream",
     "text": [
      "2.305952310562134\n"
     ]
    }
   ],
   "source": [
    "emb = C[X] # 32,3,2 instead of 200k,3,2\n",
    "h = torch.tanh(emb.view(-1, 6) @ W1 + b1)\n",
    "logits = h @ W2 + b2\n",
    "loss = F.cross_entropy(logits, Y)\n",
    "print(loss.item())"
   ]
  },
  {
   "cell_type": "code",
   "execution_count": null,
   "id": "3db29cdd-cf80-472b-b4de-af9b64d526bf",
   "metadata": {},
   "outputs": [],
   "source": []
  }
 ],
 "metadata": {
  "kernelspec": {
   "display_name": "Python 3 (ipykernel)",
   "language": "python",
   "name": "python3"
  },
  "language_info": {
   "codemirror_mode": {
    "name": "ipython",
    "version": 3
   },
   "file_extension": ".py",
   "mimetype": "text/x-python",
   "name": "python",
   "nbconvert_exporter": "python",
   "pygments_lexer": "ipython3",
   "version": "3.11.5"
  }
 },
 "nbformat": 4,
 "nbformat_minor": 5
}
